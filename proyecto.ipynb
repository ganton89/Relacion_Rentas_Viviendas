{
 "cells": [
  {
   "cell_type": "code",
   "execution_count": 1,
   "id": "cd7c5fe0",
   "metadata": {},
   "outputs": [],
   "source": [
    "import pandas as pd\n",
    "import matplotlib.pyplot as plt\n",
    "import seaborn as sns\n",
    "\n",
    "pd.set_option('display.max_columns', None)\n",
    "df = pd.read_csv(\"myb.csv\", sep=\";\", decimal=\",\", encoding=\"latin-1\")\n",
    "renta = pd.read_csv(\"renta.csv\", sep=\";\", decimal=\",\", encoding=\"latin-1\")"
   ]
  },
  {
   "cell_type": "code",
   "execution_count": 14,
   "id": "17d24fa9",
   "metadata": {},
   "outputs": [],
   "source": [
    "def eda(df):\n",
    "    print(f'Info columnas')\n",
    "    print(df.info())\n",
    "    print(f'Info forma')\n",
    "    print(f'Info valores random')\n",
    "    print(df.sample())\n",
    "    for col in df.columns:\n",
    "        print(col)\n",
    "        print(df[col].unique())"
   ]
  },
  {
   "cell_type": "code",
   "execution_count": 31,
   "id": "aa14fb73",
   "metadata": {},
   "outputs": [
    {
     "data": {
      "text/html": [
       "<div>\n",
       "<style scoped>\n",
       "    .dataframe tbody tr th:only-of-type {\n",
       "        vertical-align: middle;\n",
       "    }\n",
       "\n",
       "    .dataframe tbody tr th {\n",
       "        vertical-align: top;\n",
       "    }\n",
       "\n",
       "    .dataframe thead th {\n",
       "        text-align: right;\n",
       "    }\n",
       "</style>\n",
       "<table border=\"1\" class=\"dataframe\">\n",
       "  <thead>\n",
       "    <tr style=\"text-align: right;\">\n",
       "      <th></th>\n",
       "      <th>Sexo</th>\n",
       "      <th>Provincias</th>\n",
       "      <th>Tasas</th>\n",
       "      <th>Periodo</th>\n",
       "      <th>Total</th>\n",
       "    </tr>\n",
       "  </thead>\n",
       "  <tbody>\n",
       "    <tr>\n",
       "      <th>170</th>\n",
       "      <td>Mujeres</td>\n",
       "      <td>09 Burgos</td>\n",
       "      <td>Tasa de empleo de la población</td>\n",
       "      <td>2023T2</td>\n",
       "      <td>46.55</td>\n",
       "    </tr>\n",
       "    <tr>\n",
       "      <th>183</th>\n",
       "      <td>Mujeres</td>\n",
       "      <td>28 Madrid</td>\n",
       "      <td>Tasa de paro de la población</td>\n",
       "      <td>2024T3</td>\n",
       "      <td>10.31</td>\n",
       "    </tr>\n",
       "    <tr>\n",
       "      <th>118</th>\n",
       "      <td>Mujeres</td>\n",
       "      <td>Total Nacional</td>\n",
       "      <td>Tasa de paro de la población</td>\n",
       "      <td>2022T4</td>\n",
       "      <td>14.74</td>\n",
       "    </tr>\n",
       "    <tr>\n",
       "      <th>169</th>\n",
       "      <td>Mujeres</td>\n",
       "      <td>09 Burgos</td>\n",
       "      <td>Tasa de empleo de la población</td>\n",
       "      <td>2023T3</td>\n",
       "      <td>49.20</td>\n",
       "    </tr>\n",
       "    <tr>\n",
       "      <th>114</th>\n",
       "      <td>Mujeres</td>\n",
       "      <td>Total Nacional</td>\n",
       "      <td>Tasa de paro de la población</td>\n",
       "      <td>2023T4</td>\n",
       "      <td>13.33</td>\n",
       "    </tr>\n",
       "  </tbody>\n",
       "</table>\n",
       "</div>"
      ],
      "text/plain": [
       "        Sexo      Provincias                           Tasas Periodo  Total\n",
       "170  Mujeres       09 Burgos  Tasa de empleo de la población  2023T2  46.55\n",
       "183  Mujeres       28 Madrid    Tasa de paro de la población  2024T3  10.31\n",
       "118  Mujeres  Total Nacional    Tasa de paro de la población  2022T4  14.74\n",
       "169  Mujeres       09 Burgos  Tasa de empleo de la población  2023T3  49.20\n",
       "114  Mujeres  Total Nacional    Tasa de paro de la población  2023T4  13.33"
      ]
     },
     "execution_count": 31,
     "metadata": {},
     "output_type": "execute_result"
    }
   ],
   "source": [
    "df.sample(5)"
   ]
  },
  {
   "cell_type": "code",
   "execution_count": 25,
   "id": "a9341ed9",
   "metadata": {},
   "outputs": [],
   "source": [
    "renmun = pd.read_csv('rentaxcomunidad.csv', sep=\";\", decimal=\",\", encoding=\"latin-1\")"
   ]
  },
  {
   "cell_type": "code",
   "execution_count": 28,
   "id": "f2b5a77b",
   "metadata": {},
   "outputs": [
    {
     "data": {
      "text/html": [
       "<div>\n",
       "<style scoped>\n",
       "    .dataframe tbody tr th:only-of-type {\n",
       "        vertical-align: middle;\n",
       "    }\n",
       "\n",
       "    .dataframe tbody tr th {\n",
       "        vertical-align: top;\n",
       "    }\n",
       "\n",
       "    .dataframe thead th {\n",
       "        text-align: right;\n",
       "    }\n",
       "</style>\n",
       "<table border=\"1\" class=\"dataframe\">\n",
       "  <thead>\n",
       "    <tr style=\"text-align: right;\">\n",
       "      <th></th>\n",
       "      <th>Comunidades y Ciudades Autónomas</th>\n",
       "      <th>Renta anual neta media por hogar</th>\n",
       "      <th>Periodo</th>\n",
       "      <th>Total</th>\n",
       "    </tr>\n",
       "  </thead>\n",
       "  <tbody>\n",
       "    <tr>\n",
       "      <th>29</th>\n",
       "      <td>08 Castilla - La Mancha</td>\n",
       "      <td>Renta neta media por hogar</td>\n",
       "      <td>2022</td>\n",
       "      <td>27.864</td>\n",
       "    </tr>\n",
       "    <tr>\n",
       "      <th>75</th>\n",
       "      <td>19 Melilla</td>\n",
       "      <td>Renta neta media por hogar</td>\n",
       "      <td>2020</td>\n",
       "      <td>37.138</td>\n",
       "    </tr>\n",
       "    <tr>\n",
       "      <th>68</th>\n",
       "      <td>18 Ceuta</td>\n",
       "      <td>Renta neta media por hogar</td>\n",
       "      <td>2023</td>\n",
       "      <td>40.621</td>\n",
       "    </tr>\n",
       "    <tr>\n",
       "      <th>58</th>\n",
       "      <td>15 Navarra, Comunidad Foral de</td>\n",
       "      <td>Renta neta media por hogar</td>\n",
       "      <td>2021</td>\n",
       "      <td>38.086</td>\n",
       "    </tr>\n",
       "  </tbody>\n",
       "</table>\n",
       "</div>"
      ],
      "text/plain": [
       "   Comunidades y Ciudades Autónomas Renta anual neta media por hogar  Periodo  \\\n",
       "29          08 Castilla - La Mancha       Renta neta media por hogar     2022   \n",
       "75                       19 Melilla       Renta neta media por hogar     2020   \n",
       "68                         18 Ceuta       Renta neta media por hogar     2023   \n",
       "58   15 Navarra, Comunidad Foral de       Renta neta media por hogar     2021   \n",
       "\n",
       "     Total  \n",
       "29  27.864  \n",
       "75  37.138  \n",
       "68  40.621  \n",
       "58  38.086  "
      ]
     },
     "execution_count": 28,
     "metadata": {},
     "output_type": "execute_result"
    }
   ],
   "source": [
    "renmun.sample(4)"
   ]
  },
  {
   "cell_type": "code",
   "execution_count": 22,
   "id": "426a17e1",
   "metadata": {},
   "outputs": [
    {
     "data": {
      "text/html": [
       "<div>\n",
       "<style scoped>\n",
       "    .dataframe tbody tr th:only-of-type {\n",
       "        vertical-align: middle;\n",
       "    }\n",
       "\n",
       "    .dataframe tbody tr th {\n",
       "        vertical-align: top;\n",
       "    }\n",
       "\n",
       "    .dataframe thead th {\n",
       "        text-align: right;\n",
       "    }\n",
       "</style>\n",
       "<table border=\"1\" class=\"dataframe\">\n",
       "  <thead>\n",
       "    <tr style=\"text-align: right;\">\n",
       "      <th></th>\n",
       "      <th>Distritos</th>\n",
       "      <th>Secciones</th>\n",
       "      <th>Indicadores de renta media y mediana</th>\n",
       "      <th>Periodo</th>\n",
       "      <th>Total</th>\n",
       "    </tr>\n",
       "    <tr>\n",
       "      <th>Municipios</th>\n",
       "      <th></th>\n",
       "      <th></th>\n",
       "      <th></th>\n",
       "      <th></th>\n",
       "      <th></th>\n",
       "    </tr>\n",
       "  </thead>\n",
       "  <tbody>\n",
       "  </tbody>\n",
       "</table>\n",
       "</div>"
      ],
      "text/plain": [
       "Empty DataFrame\n",
       "Columns: [Distritos, Secciones, Indicadores de renta media y mediana, Periodo, Total]\n",
       "Index: []"
      ]
     },
     "execution_count": 22,
     "metadata": {},
     "output_type": "execute_result"
    }
   ],
   "source": [
    "renmun[maslaranda]"
   ]
  }
 ],
 "metadata": {
  "kernelspec": {
   "display_name": "base",
   "language": "python",
   "name": "python3"
  },
  "language_info": {
   "codemirror_mode": {
    "name": "ipython",
    "version": 3
   },
   "file_extension": ".py",
   "mimetype": "text/x-python",
   "name": "python",
   "nbconvert_exporter": "python",
   "pygments_lexer": "ipython3",
   "version": "3.13.5"
  }
 },
 "nbformat": 4,
 "nbformat_minor": 5
}
